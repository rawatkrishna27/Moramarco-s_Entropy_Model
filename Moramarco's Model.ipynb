{
 "cells": [
  {
   "cell_type": "code",
   "execution_count": 13,
   "id": "50d08f52",
   "metadata": {},
   "outputs": [],
   "source": [
    "import numpy as np\n",
    "import pandas as pd\n"
   ]
  },
  {
   "cell_type": "code",
   "execution_count": null,
   "id": "951d8788",
   "metadata": {},
   "outputs": [],
   "source": [
    "\n"
   ]
  },
  {
   "cell_type": "code",
   "execution_count": 14,
   "id": "e0eb170a",
   "metadata": {},
   "outputs": [
    {
     "name": "stdout",
     "output_type": "stream",
     "text": [
      "copy the path of your csv file:\t\"C:\\Users\\rawat\\Desktop\\trial data for moramarco model.csv\"\n",
      "['', 'C:\\\\Users\\\\rawat\\\\Desktop\\\\trial data for moramarco model.csv', '']\n"
     ]
    }
   ],
   "source": [
    "name=input(\"copy the path of your csv file:\\t\").split('\"')\n",
    "print(name)\n",
    "data=pd.read_csv(name[1])"
   ]
  },
  {
   "cell_type": "code",
   "execution_count": 44,
   "id": "f67242b4",
   "metadata": {},
   "outputs": [
    {
     "name": "stdout",
     "output_type": "stream",
     "text": [
      "Minimum RMSE is :  16.27680066879857 \n",
      " k value adopted is:  9.950000000000012\n"
     ]
    }
   ],
   "source": [
    "RMSE=1000\n",
    "k=-1\n",
    "diff=1000\n",
    "while diff>0.001:\n",
    "    k=k+0.15\n",
    "    u_6max_index = data['Velocity'].argmax()\n",
    "    u_6max=data['Velocity'].max()\n",
    "    fi_k=(np.exp(k)/(np.exp(k)-1))-(1/k)\n",
    "    y=data['D'][u_6max_index]\n",
    "    umax_c=(k*u_6max)/(np.log(1+((np.exp(k)-1)*0.4*np.exp(1-0.4))))\n",
    "    umean_c=fi_k*umax_c\n",
    "    err=umean_c-data['Velocity']\n",
    "    from sklearn.metrics import mean_squared_error\n",
    "    ORMSE=np.sqrt(mean_squared_error(err,data['Velocity']))\n",
    "    diff=RMSE-ORMSE\n",
    "    RMSE=ORMSE\n",
    "print(\"Minimum RMSE is : \",RMSE,\"\\n k value adopted is: \",k)\n",
    "\n",
    "\n",
    "    \n"
   ]
  },
  {
   "cell_type": "code",
   "execution_count": 6,
   "id": "6a5ab437",
   "metadata": {},
   "outputs": [
    {
     "data": {
      "text/plain": [
       "0.41802329313067355"
      ]
     },
     "execution_count": 6,
     "metadata": {},
     "output_type": "execute_result"
    }
   ],
   "source": [
    "#fi_k=(np.exp(k)/(np.exp(k)-1))-(1/k)\n",
    "#fi_k"
   ]
  },
  {
   "cell_type": "code",
   "execution_count": 21,
   "id": "150e012e",
   "metadata": {},
   "outputs": [
    {
     "data": {
      "text/plain": [
       "19.135"
      ]
     },
     "execution_count": 21,
     "metadata": {},
     "output_type": "execute_result"
    }
   ],
   "source": [
    "#y=data['D'][u_6max_index]\n",
    "#y"
   ]
  },
  {
   "cell_type": "code",
   "execution_count": 22,
   "id": "fd4951c1",
   "metadata": {},
   "outputs": [
    {
     "data": {
      "text/plain": [
       "50.493793902666845"
      ]
     },
     "execution_count": 22,
     "metadata": {},
     "output_type": "execute_result"
    }
   ],
   "source": [
    "#umax_c=(k*u_6max)/(np.log(1+((np.exp(k)-1)*y*0.4/y*np.exp(1-(y*0.4/y)))))\n",
    "#umax_c"
   ]
  },
  {
   "cell_type": "code",
   "execution_count": 23,
   "id": "0c7094e8",
   "metadata": {},
   "outputs": [],
   "source": [
    "#umean_c=fi_k*umax_c"
   ]
  },
  {
   "cell_type": "code",
   "execution_count": 24,
   "id": "b50020de",
   "metadata": {},
   "outputs": [],
   "source": [
    "#err=umean_c-data['Velocity']"
   ]
  },
  {
   "cell_type": "code",
   "execution_count": 25,
   "id": "4ee790e1",
   "metadata": {},
   "outputs": [
    {
     "data": {
      "text/plain": [
       "0     15.891212\n",
       "1     15.161212\n",
       "2     18.486212\n",
       "3     15.601212\n",
       "4     14.111212\n",
       "5     15.236212\n",
       "6     14.526212\n",
       "7     15.926212\n",
       "8     16.366212\n",
       "9     18.986212\n",
       "10    16.041212\n",
       "11    18.086212\n",
       "12    15.621212\n",
       "13    17.951212\n",
       "14    22.261212\n",
       "15    16.876212\n",
       "16   -11.613788\n",
       "17    -2.943788\n",
       "18    -5.648788\n",
       "19     0.626212\n",
       "20     5.686212\n",
       "21     2.881212\n",
       "22     6.066212\n",
       "23     7.436212\n",
       "24     7.906212\n",
       "25     8.986212\n",
       "26     6.751212\n",
       "27     8.186212\n",
       "28     3.741212\n",
       "29     0.516212\n",
       "Name: Velocity, dtype: float64"
      ]
     },
     "execution_count": 25,
     "metadata": {},
     "output_type": "execute_result"
    }
   ],
   "source": [
    "#err\n",
    "#data['sq_err']= err*err\n",
    "#data['sq_err']"
   ]
  },
  {
   "cell_type": "code",
   "execution_count": 26,
   "id": "03e95a9a",
   "metadata": {},
   "outputs": [
    {
     "name": "stdout",
     "output_type": "stream",
     "text": [
      "Requirement already satisfied: scikit-learn in c:\\users\\rawat\\anaconda3\\envs\\requirements\\lib\\site-packages (1.1.2)Note: you may need to restart the kernel to use updated packages.\n"
     ]
    },
    {
     "name": "stderr",
     "output_type": "stream",
     "text": [
      "ERROR: Could not install packages due to an OSError: [Errno 2] No such file or directory: 'c:\\\\users\\\\rawat\\\\anaconda3\\\\envs\\\\requirements\\\\lib\\\\site-packages\\\\numpy-1.23.1.dist-info\\\\METADATA'\n",
      "\n"
     ]
    },
    {
     "name": "stdout",
     "output_type": "stream",
     "text": [
      "\n",
      "Requirement already satisfied: scipy>=1.3.2 in c:\\users\\rawat\\anaconda3\\envs\\requirements\\lib\\site-packages (from scikit-learn) (1.7.3)\n",
      "Requirement already satisfied: threadpoolctl>=2.0.0 in c:\\users\\rawat\\anaconda3\\envs\\requirements\\lib\\site-packages (from scikit-learn) (3.1.0)\n",
      "Requirement already satisfied: numpy>=1.17.3 in c:\\users\\rawat\\anaconda3\\envs\\requirements\\lib\\site-packages (from scikit-learn) (1.23.1)\n",
      "Requirement already satisfied: joblib>=1.0.0 in c:\\users\\rawat\\anaconda3\\envs\\requirements\\lib\\site-packages (from scikit-learn) (1.1.0)\n"
     ]
    }
   ],
   "source": [
    "pip install -U scikit-learn\n"
   ]
  },
  {
   "cell_type": "code",
   "execution_count": 27,
   "id": "90997b75",
   "metadata": {},
   "outputs": [
    {
     "data": {
      "text/plain": [
       "18.599692347766386"
      ]
     },
     "execution_count": 27,
     "metadata": {},
     "output_type": "execute_result"
    }
   ],
   "source": [
    "#from sklearn.metrics import mean_squared_error\n",
    "#RMSE=np.sqrt(mean_squared_error(err,data['Velocity']))\n",
    "#RMSE"
   ]
  },
  {
   "cell_type": "code",
   "execution_count": 41,
   "id": "1efdd722",
   "metadata": {},
   "outputs": [
    {
     "data": {
      "text/plain": [
       "38.09216002300971"
      ]
     },
     "execution_count": 41,
     "metadata": {},
     "output_type": "execute_result"
    }
   ],
   "source": [
    "k=9.95\n",
    "u_6max_index = data['Velocity'].argmax()\n",
    "u_6max=data['Velocity'].max()\n",
    "fi_k=(np.exp(k)/(np.exp(k)-1))-(1/k)\n",
    "y=data['D'][u_6max_index]\n",
    "umax_c=(k*u_6max)/(np.log(1+((np.exp(k)-1)*y*0.4/y*np.exp(1-(y*0.4/y)))))\n",
    "umean_c=fi_k*umax_c\n",
    "umean_c"
   ]
  },
  {
   "cell_type": "code",
   "execution_count": 43,
   "id": "3a583e59",
   "metadata": {},
   "outputs": [
    {
     "data": {
      "text/plain": [
       "0.5"
      ]
     },
     "execution_count": 43,
     "metadata": {},
     "output_type": "execute_result"
    }
   ],
   "source": [
    "(38-19)/38\n"
   ]
  },
  {
   "cell_type": "code",
   "execution_count": null,
   "id": "76f70adf",
   "metadata": {},
   "outputs": [],
   "source": []
  }
 ],
 "metadata": {
  "kernelspec": {
   "display_name": "Python 3 (ipykernel)",
   "language": "python",
   "name": "python3"
  },
  "language_info": {
   "codemirror_mode": {
    "name": "ipython",
    "version": 3
   },
   "file_extension": ".py",
   "mimetype": "text/x-python",
   "name": "python",
   "nbconvert_exporter": "python",
   "pygments_lexer": "ipython3",
   "version": "3.10.4"
  }
 },
 "nbformat": 4,
 "nbformat_minor": 5
}
